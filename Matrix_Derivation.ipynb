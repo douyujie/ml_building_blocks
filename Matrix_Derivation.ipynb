{
 "cells": [
  {
   "cell_type": "markdown",
   "metadata": {},
   "source": [
    "Example 1:\n",
    "\n",
    "If $f = \\textbf{a}^TX\\textbf{b}$, solve for: $\\frac{\\partial f}{\\partial X}$, where $\\textbf{a}: (m, 1), X: (m, n), \\textbf{b}: (n, 1)$, $f$ is a scalar\n",
    "\n",
    "Answer:\n",
    "\n",
    "$df = d\\textbf{a}X\\textbf{b} + \\textbf{a}^TdX\\textbf{b} + \\textbf{a}^TXd\\textbf{b}$, where $\\textbf{a}, \\textbf{b}$ are constants, so $d\\textbf{a} = d\\textbf{b} = 0$\n",
    "\n",
    "and $df$ is a scalar so:\n",
    "\n",
    " $df = tr(df) =  tr(\\textbf{a}^TdX\\textbf{b}) = tr(\\textbf{b}\\textbf{a}^TdX) = tr((\\textbf{a}\\textbf{b}^T)^TdX)$\n",
    "\n",
    "Here we use:\n",
    "\n",
    "$tr(AB) = tr(BA)$ and exchanged $\\textbf{a}^TdX$ and $\\textbf{b}$\n",
    "\n",
    "According to: $df = tr({\\frac{\\partial f}{\\partial X}}^T dX)$ we get:\n",
    "\n",
    "$\\frac{\\partial f}{\\partial X} = \\textbf{a}\\textbf{b}^T$\n",
    "\n",
    "\n",
    "\n",
    "\n",
    "\n",
    "Example 2:\n",
    "\n"
   ]
  }
 ],
 "metadata": {
  "kernelspec": {
   "display_name": "Python 3",
   "language": "python",
   "name": "python3"
  },
  "language_info": {
   "codemirror_mode": {
    "name": "ipython",
    "version": 3
   },
   "file_extension": ".py",
   "mimetype": "text/x-python",
   "name": "python",
   "nbconvert_exporter": "python",
   "pygments_lexer": "ipython3",
   "version": "3.5.6"
  }
 },
 "nbformat": 4,
 "nbformat_minor": 2
}
