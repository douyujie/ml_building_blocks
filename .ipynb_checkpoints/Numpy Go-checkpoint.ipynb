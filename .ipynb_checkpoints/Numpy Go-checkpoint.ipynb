{
 "cells": [
  {
   "cell_type": "markdown",
   "metadata": {},
   "source": [
    "# Numpy Go"
   ]
  },
  {
   "cell_type": "markdown",
   "metadata": {},
   "source": [
    "## Generating Arrays"
   ]
  },
  {
   "cell_type": "code",
   "execution_count": 90,
   "metadata": {},
   "outputs": [
    {
     "name": "stdout",
     "output_type": "stream",
     "text": [
      "A:\n",
      " [[ 0.  1.  2.  3.  4.]\n",
      " [10. 11. 12. 13. 14.]\n",
      " [20. 21. 22. 23. 24.]\n",
      " [30. 31. 32. 33. 34.]\n",
      " [40. 41. 42. 43. 44.]]\n",
      "\n",
      "B:\n",
      " [[ 3 10 54 51  8]\n",
      " [85 51 51 59 43]\n",
      " [70  4 58 74 49]\n",
      " [52 76 16 82 36]\n",
      " [10 17 54 92 10]]\n",
      "\n",
      "C:\n",
      " [[ 0.+0.j  1.+0.j  2.+0.j  3.+0.j  4.+0.j]\n",
      " [ 5.+0.j  6.+0.j  7.+0.j  8.+0.j  9.+0.j]\n",
      " [10.+0.j 11.+0.j 12.+0.j 13.+0.j 14.+0.j]\n",
      " [15.+0.j 16.+0.j 17.+0.j 18.+0.j 19.+0.j]\n",
      " [20.+0.j 21.+0.j 22.+0.j 23.+0.j 24.+0.j]]\n",
      "\n"
     ]
    }
   ],
   "source": [
    "import numpy as np\n",
    "\n",
    "A = np.array([[n+10*m for n in range(5)] for m in range(5)], dtype='float64')\n",
    "print('A:\\n', A, end='\\n\\n')\n",
    "\n",
    "B = np.random.randint(100, size=(5, 5)) # @1\n",
    "print('B:\\n', B, end='\\n\\n')\n",
    "\n",
    "C = np.arange(25, dtype='complex').reshape(5, 5)\n",
    "print('C:\\n', C, end='\\n\\n')"
   ]
  },
  {
   "cell_type": "markdown",
   "metadata": {},
   "source": [
    "@1: `randint(low, high=None, size=None, dtype='l')` Return random integers from the \"discrete uniform\" distribution of\n",
    "the specified dtype in the \"half-open\" interval \\[`low`, `high`). If `high` is `None` (the default), then results are from [0, `low`)."
   ]
  },
  {
   "cell_type": "markdown",
   "metadata": {},
   "source": [
    "Common data types that can be used with dtype are: `int`, `float`, `complex`, `bool`, etc.\n",
    "\n",
    "We can also explicitly define the **bit size** of the data types, for example: `int16`, `int64`, `float32`, `float64`, `complex128`, etc. Visit [numpy.data_types](https://www.numpy.org.cn/user_guide/numpy_basics/data_types.html) for more details."
   ]
  },
  {
   "cell_type": "code",
   "execution_count": 89,
   "metadata": {},
   "outputs": [
    {
     "name": "stdout",
     "output_type": "stream",
     "text": [
      "A:\n",
      " [[0.30724316 0.79087085 0.65633142 0.33814552 0.4396678 ]\n",
      " [0.03463735 0.54576797 0.18399033 0.34879007 0.36254229]\n",
      " [0.40384877 0.24965217 0.22323893 0.7375096  0.16318439]\n",
      " [0.80182033 0.72455729 0.41606049 0.49571567 0.82389849]\n",
      " [0.63157215 0.57396807 0.29438008 0.79058877 0.70691893]]\n",
      "\n",
      "B:\n",
      " [[ 0.68346177 -0.3130113   0.86398395  0.96317944  0.75394931]\n",
      " [ 1.38441171  0.44999173  0.46438095  1.60060128 -0.90109521]\n",
      " [-0.46295955  1.64646929  1.60120506 -0.26872706 -0.60863494]\n",
      " [ 0.43785386 -0.3368861   0.12219972  1.14137366 -0.7246897 ]\n",
      " [ 1.34852095 -0.56821616  0.43062723  0.28836228 -0.09861638]]\n",
      "\n"
     ]
    }
   ],
   "source": [
    "import numpy as np\n",
    "\n",
    "A = np.random.rand(5, 5) # uniform random numbers in [0,1]\n",
    "print('A:\\n', A, end='\\n\\n')\n",
    "\n",
    "B = np.random.randn(5, 5) # standard normal distributed random numbers\n",
    "print('B:\\n', B, end='\\n\\n')"
   ]
  },
  {
   "cell_type": "markdown",
   "metadata": {},
   "source": [
    "### Generate from and Save to File"
   ]
  },
  {
   "cell_type": "code",
   "execution_count": 88,
   "metadata": {},
   "outputs": [
    {
     "name": "stdout",
     "output_type": "stream",
     "text": [
      "[[ 1.80e+03  1.00e+00  1.00e+00 -6.10e+00 -6.10e+00 -6.10e+00  1.00e+00]\n",
      " [ 1.80e+03  1.00e+00  2.00e+00 -1.54e+01 -1.54e+01 -1.54e+01  1.00e+00]\n",
      " [ 1.80e+03  1.00e+00  3.00e+00 -1.50e+01 -1.50e+01 -1.50e+01  1.00e+00]\n",
      " [ 1.80e+03  1.00e+00  4.00e+00 -1.93e+01 -1.93e+01 -1.93e+01  1.00e+00]\n",
      " [ 1.80e+03  1.00e+00  5.00e+00 -1.68e+01 -1.68e+01 -1.68e+01  1.00e+00]\n",
      " [ 1.80e+03  1.00e+00  6.00e+00 -1.14e+01 -1.14e+01 -1.14e+01  1.00e+00]\n",
      " [ 1.80e+03  1.00e+00  7.00e+00 -7.60e+00 -7.60e+00 -7.60e+00  1.00e+00]\n",
      " [ 1.80e+03  1.00e+00  8.00e+00 -7.10e+00 -7.10e+00 -7.10e+00  1.00e+00]\n",
      " [ 1.80e+03  1.00e+00  9.00e+00 -1.01e+01 -1.01e+01 -1.01e+01  1.00e+00]\n",
      " [ 1.80e+03  1.00e+00  1.00e+01 -9.50e+00 -9.50e+00 -9.50e+00  1.00e+00]]\n",
      "\n",
      "[[1800    1    1   -6]\n",
      " [1800    1    2  -15]\n",
      " [1800    1    3  -15]\n",
      " [1800    1    4  -19]\n",
      " [1800    1    5  -16]\n",
      " [1800    1    6  -11]\n",
      " [1800    1    7   -7]\n",
      " [1800    1    8   -7]\n",
      " [1800    1    9  -10]\n",
      " [1800    1   10   -9]]\n",
      "\n",
      "1.800000000000000000e+03 1.000000000000000000e+00 1.000000000000000000e+00 -6.000000000000000000e+00\r\n",
      "1.800000000000000000e+03 1.000000000000000000e+00 2.000000000000000000e+00 -1.500000000000000000e+01\r\n",
      "1.800000000000000000e+03 1.000000000000000000e+00 3.000000000000000000e+00 -1.500000000000000000e+01\r\n",
      "1.800000000000000000e+03 1.000000000000000000e+00 4.000000000000000000e+00 -1.900000000000000000e+01\r\n",
      "1.800000000000000000e+03 1.000000000000000000e+00 5.000000000000000000e+00 -1.600000000000000000e+01\r\n",
      "1.800000000000000000e+03 1.000000000000000000e+00 6.000000000000000000e+00 -1.100000000000000000e+01\r\n",
      "1.800000000000000000e+03 1.000000000000000000e+00 7.000000000000000000e+00 -7.000000000000000000e+00\r\n",
      "1.800000000000000000e+03 1.000000000000000000e+00 8.000000000000000000e+00 -7.000000000000000000e+00\r\n",
      "1.800000000000000000e+03 1.000000000000000000e+00 9.000000000000000000e+00 -1.000000000000000000e+01\r\n",
      "1.800000000000000000e+03 1.000000000000000000e+00 1.000000000000000000e+01 -9.000000000000000000e+00\r\n"
     ]
    }
   ],
   "source": [
    "import numpy as np\n",
    "\n",
    "data = np.genfromtxt('data.dat') # Load data from a text file, with missing values handled as specified. @1\n",
    "print(data, end='\\n\\n')\n",
    "\n",
    "data_modified = data[:, [0, 1, 2, 3]].astype('int64')\n",
    "print(data_modified, end='\\n\\n')\n",
    "\n",
    "np.savetxt('data_modified.txt', data_modified) # default format: '%.18e'\n",
    "!cat data_modified.txt"
   ]
  },
  {
   "cell_type": "markdown",
   "metadata": {},
   "source": [
    "@1: default dtype: None. Determined by the contents of each column, individually."
   ]
  },
  {
   "cell_type": "code",
   "execution_count": 71,
   "metadata": {},
   "outputs": [
    {
     "name": "stdout",
     "output_type": "stream",
     "text": [
      "[[0 0 0 0 0]\n",
      " [0 1 0 0 0]\n",
      " [0 0 2 0 0]\n",
      " [0 0 0 3 0]\n",
      " [0 0 0 0 4]]\n"
     ]
    }
   ],
   "source": [
    "import numpy as np\n",
    "\n",
    "A = np.diag(range(5))\n",
    "np.save('diag_matrix.npy', A) # Save an array to a binary file in NumPy ``.npy`` format.\n",
    "\n",
    "B = np.load('diag_matrix.npy')\n",
    "print(B)"
   ]
  },
  {
   "cell_type": "markdown",
   "metadata": {},
   "source": [
    "## Array Properties"
   ]
  },
  {
   "cell_type": "code",
   "execution_count": 74,
   "metadata": {},
   "outputs": [
    {
     "name": "stdout",
     "output_type": "stream",
     "text": [
      "8\n",
      "200\n",
      "2\n"
     ]
    }
   ],
   "source": [
    "import numpy as np\n",
    "\n",
    "A = np.random.randint(100, size=(5, 5))\n",
    "\n",
    "print(A.itemsize) # bytes per element\n",
    "print(A.nbytes) # number of bytes\n",
    "print(A.ndim) # number of dimensions"
   ]
  },
  {
   "cell_type": "markdown",
   "metadata": {},
   "source": [
    "## Compare a[:][:] and a[:, :]"
   ]
  },
  {
   "cell_type": "code",
   "execution_count": null,
   "metadata": {},
   "outputs": [],
   "source": [
    "import numpy as np\n",
    "\n",
    "I = np.eye(10)\n",
    "\n",
    "# compare difference\n",
    "print(I[0:4][0:3])\n",
    "print(I[0:4, 0:3])"
   ]
  },
  {
   "cell_type": "markdown",
   "metadata": {},
   "source": [
    "## Compare np.vstack(), np.hstack(), np.concatenate()"
   ]
  },
  {
   "cell_type": "code",
   "execution_count": 87,
   "metadata": {},
   "outputs": [
    {
     "name": "stdout",
     "output_type": "stream",
     "text": [
      "vstack:\n",
      " [[1 2 3]\n",
      " [2 3 4]]\n",
      "\n",
      "hstack:\n",
      " [1 2 3 2 3 4]\n",
      "\n",
      "concatenate:\n",
      " [1 2 3 2 3 4]\n",
      "\n"
     ]
    }
   ],
   "source": [
    "import numpy as np\n",
    "\n",
    "a = np.array([1, 2, 3])\n",
    "b = np.array([2, 3, 4])\n",
    "\n",
    "print('vstack:\\n', np.vstack((a, b)), end='\\n\\n') # Stack arrays in sequence vertically (row wise). @1\n",
    "print('hstack:\\n', np.hstack((a, b)), end='\\n\\n') # Stack arrays in sequence horizontally (column wise). @2\n",
    "print('concatenate:\\n', np.concatenate((a, b)), end='\\n\\n') # Join a sequence of arrays along an existing axis. @3"
   ]
  },
  {
   "cell_type": "code",
   "execution_count": 91,
   "metadata": {},
   "outputs": [
    {
     "name": "stdout",
     "output_type": "stream",
     "text": [
      "vstack:\n",
      " [[1]\n",
      " [2]\n",
      " [3]\n",
      " [2]\n",
      " [3]\n",
      " [4]]\n",
      "\n",
      "hstack:\n",
      " [[1 2]\n",
      " [2 3]\n",
      " [3 4]]\n",
      "\n",
      "concatenate:\n",
      " [[1]\n",
      " [2]\n",
      " [3]\n",
      " [2]\n",
      " [3]\n",
      " [4]]\n",
      "\n"
     ]
    }
   ],
   "source": [
    "c = np.array([[1], [2], [3]])\n",
    "d = np.array([[2], [3], [4]])\n",
    "\n",
    "print('vstack:\\n', np.vstack((c, d)), end='\\n\\n') # Stack arrays in sequence vertically (row wise). @1\n",
    "print('hstack:\\n', np.hstack((c, d)), end='\\n\\n') # Stack arrays in sequence horizontally (column wise). @2\n",
    "print('concatenate:\\n', np.concatenate((c, d)), end='\\n\\n') # Join a sequence of arrays along an existing axis. @3"
   ]
  },
  {
   "cell_type": "markdown",
   "metadata": {},
   "source": [
    "@1: This is equivalent to concatenation along the **first axis** after 1-D arrays of shape `(N,)` have been reshaped to `(1,N)`.\n",
    "\n",
    "@2: This is equivalent to concatenation along the **second axis**, except for 1-D arrays where it concatenates along the first axis.\n",
    "\n",
    "@3: `concatenate((a1, a2, ...), axis=0, out=None)`. **Any axis** can be choosen. Default axis is 0."
   ]
  },
  {
   "cell_type": "markdown",
   "metadata": {},
   "source": [
    "**Summary in Chinese:**\n",
    "\n",
    "`np.concatenate` 默认是把矩阵的第 0 轴（第 1 个轴，批量轴）连接起来的. 特例：向量没有批量轴，此时直接首尾串联. 也可以选择 `axis`.\n",
    "\n",
    "`np.vstack` 是通过 0 轴（第 1 个轴，批量轴）把矩阵连接起来的，特例：遇见向量时，通过为向量添加新轴（批量轴），然后再进行连接.\n",
    "\n",
    "`np.hstack` 是通过第 2 个轴把矩阵连接起来的. 特例：向量没有 \"第 2 个轴\"，直接首位相接.\n",
    "\n",
    "在面对有批量轴的矩阵时: `np.concatenate` 的默认行为和 `np.vstack` 是相同的. 其之间的不同仅在于面对向量时.\n",
    "\n",
    "在面对向量时: `np.concatenate` 的默认行为和 `np.hstack` 是相同的. "
   ]
  },
  {
   "cell_type": "markdown",
   "metadata": {},
   "source": [
    "## Compare flatten(), ravel()"
   ]
  },
  {
   "cell_type": "code",
   "execution_count": 86,
   "metadata": {},
   "outputs": [
    {
     "name": "stdout",
     "output_type": "stream",
     "text": [
      "B:\n",
      " [ 0  1  2  3  4 10 11 12 13 14 20 21 22 23 24 30 31 32 33 34 40 41 42 43\n",
      " 44]\n",
      "\n",
      "C:\n",
      " [ 0  1  2  3  4 10 11 12 13 14 20 21 22 23 24 30 31 32 33 34 40 41 42 43\n",
      " 44]\n",
      "\n",
      "A after change B:\n",
      " [[ 0  1  2  3  4]\n",
      " [10 11 12 13 14]\n",
      " [20 21 22 23 24]\n",
      " [30 31 32 33 34]\n",
      " [40 41 42 43 44]]\n",
      "\n",
      "A after change C:\n",
      " [[99  1  2  3  4]\n",
      " [10 11 12 13 14]\n",
      " [20 21 22 23 24]\n",
      " [30 31 32 33 34]\n",
      " [40 41 42 43 44]]\n",
      "\n"
     ]
    }
   ],
   "source": [
    "import numpy as np\n",
    "\n",
    "A = np.array([[n+10*m for n in range(5)] for m in range(5)])\n",
    "\n",
    "B = A.flatten() # Return a copy of the array collapsed into one dimension.\n",
    "print('B:\\n', B, end='\\n\\n')\n",
    "\n",
    "C = A.ravel() # Same effect with flatten(). But as we change C, A also changes\n",
    "print('C:\\n', C, end='\\n\\n')\n",
    "\n",
    "B[0] = 99\n",
    "print('A after change B:\\n', A, end='\\n\\n')\n",
    "\n",
    "C[0] = 99\n",
    "print('A after change C:\\n', A, end='\\n\\n')"
   ]
  },
  {
   "cell_type": "markdown",
   "metadata": {},
   "source": [
    "So we need to avoid use `np.ravel()` as much as possible"
   ]
  },
  {
   "cell_type": "markdown",
   "metadata": {},
   "source": [
    "## Slicing"
   ]
  },
  {
   "cell_type": "markdown",
   "metadata": {},
   "source": [
    "### Fancy Indexing"
   ]
  },
  {
   "cell_type": "code",
   "execution_count": 79,
   "metadata": {},
   "outputs": [
    {
     "name": "stdout",
     "output_type": "stream",
     "text": [
      "A:\n",
      " [[ 0  1  2  3  4]\n",
      " [10 11 12 13 14]\n",
      " [20 21 22 23 24]\n",
      " [30 31 32 33 34]\n",
      " [40 41 42 43 44]]\n"
     ]
    },
    {
     "data": {
      "text/plain": [
       "array([[10, 11, 12, 13, 14],\n",
       "       [20, 21, 22, 23, 24],\n",
       "       [30, 31, 32, 33, 34]])"
      ]
     },
     "execution_count": 79,
     "metadata": {},
     "output_type": "execute_result"
    }
   ],
   "source": [
    "import numpy as np\n",
    "\n",
    "A = np.array([[n+10*m for n in range(5)] for m in range(5)])\n",
    "print('A:\\n', A)\n",
    "\n",
    "row_indices = [1, 2, 3] # slice these rows of A\n",
    "A[row_indices]"
   ]
  },
  {
   "cell_type": "code",
   "execution_count": 100,
   "metadata": {},
   "outputs": [
    {
     "name": "stdout",
     "output_type": "stream",
     "text": [
      "A:\n",
      " [[ 0  1  2  3  4]\n",
      " [10 11 12 13 14]\n",
      " [20 21 22 23 24]\n",
      " [30 31 32 33 34]\n",
      " [40 41 42 43 44]]\n",
      "\n",
      "row_mask:\n",
      " [ True  True  True False False]\n",
      "\n",
      "col_mask:\n",
      " [ True  True  True False False]\n",
      "\n",
      "mask:\n",
      " [[False False False False False]\n",
      " [False  True  True  True  True]\n",
      " [ True  True  True  True  True]\n",
      " [ True  True  True  True  True]\n",
      " [False False False False False]]\n",
      "\n",
      "mask indices:\n",
      " (array([1, 1, 1, 1, 2, 2, 2, 2, 2, 3, 3, 3, 3, 3]), array([1, 2, 3, 4, 0, 1, 2, 3, 4, 0, 1, 2, 3, 4]))\n",
      "\n",
      "row_masked rows of A:\n",
      " [[ 0  1  2  3  4]\n",
      " [10 11 12 13 14]\n",
      " [20 21 22 23 24]]\n",
      "\n",
      "column_masked columns of A:\n",
      " [[ 0  1  2]\n",
      " [10 11 12]\n",
      " [20 21 22]\n",
      " [30 31 32]\n",
      " [40 41 42]]\n",
      "\n",
      "whole_masked A:\n",
      " [11 12 13 14 20 21 22 23 24 30 31 32 33 34]\n"
     ]
    }
   ],
   "source": [
    "import numpy as np\n",
    "\n",
    "A = np.array([[n+10*m for n in range(5)] for m in range(5)])\n",
    "print('A:\\n', A, end='\\n\\n')\n",
    "\n",
    "row_mask = np.array([True, True, True, False, False])\n",
    "col_mask = np.array([1, 1, 1, 0, 0], dtype=bool)\n",
    "whole_mask = (10<A) * (A<40)\n",
    "indices = np.where(whole_mask)\n",
    "\n",
    "print('row_mask:\\n', row_mask, end='\\n\\n')\n",
    "print('col_mask:\\n', col_mask, end='\\n\\n')\n",
    "\n",
    "print('mask:\\n', mask, end='\\n\\n')\n",
    "print('mask indices:\\n', indices, end='\\n\\n')\n",
    "\n",
    "print('row_masked rows of A:\\n', A[row_mask], end='\\n\\n') # First three rows of A\n",
    "print('column_masked columns of A:\\n', A[:, col_mask], end='\\n\\n') # First three columns of A\n",
    "print('whole_masked A:\\n', A[whole_mask])"
   ]
  },
  {
   "cell_type": "code",
   "execution_count": 92,
   "metadata": {},
   "outputs": [
    {
     "name": "stdout",
     "output_type": "stream",
     "text": [
      "[11 22 33]\n",
      "\n",
      "[[11 12 13]\n",
      " [21 22 23]\n",
      " [31 32 33]]\n",
      "\n"
     ]
    }
   ],
   "source": [
    "import numpy as np\n",
    "\n",
    "A = np.array([[n+10*m for n in range(5)] for m in range(5)])\n",
    "\n",
    "# compare these two:\n",
    "print(A[[1,2,3], [1,2,3]], end='\\n\\n')\n",
    "print(A[[1,2,3], 1:4], end='\\n\\n')"
   ]
  }
 ],
 "metadata": {
  "kernelspec": {
   "display_name": "Python 3",
   "language": "python",
   "name": "python3"
  },
  "language_info": {
   "codemirror_mode": {
    "name": "ipython",
    "version": 3
   },
   "file_extension": ".py",
   "mimetype": "text/x-python",
   "name": "python",
   "nbconvert_exporter": "python",
   "pygments_lexer": "ipython3",
   "version": "3.5.6"
  }
 },
 "nbformat": 4,
 "nbformat_minor": 2
}
