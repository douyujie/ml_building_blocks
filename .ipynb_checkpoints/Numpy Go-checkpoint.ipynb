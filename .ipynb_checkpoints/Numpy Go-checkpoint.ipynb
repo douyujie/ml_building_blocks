{
 "cells": [
  {
   "cell_type": "markdown",
   "metadata": {},
   "source": [
    "# Numpy Go"
   ]
  },
  {
   "cell_type": "markdown",
   "metadata": {},
   "source": [
    "## Compare a[:][:] and a[:, :]"
   ]
  },
  {
   "cell_type": "code",
   "execution_count": null,
   "metadata": {},
   "outputs": [],
   "source": [
    "import numpy as np\n",
    "\n",
    "I = np.eye(10)\n",
    "\n",
    "# compare difference\n",
    "print(I[0:4][0:3])\n",
    "print(I[0:4, 0:3])"
   ]
  },
  {
   "cell_type": "markdown",
   "metadata": {},
   "source": [
    "## Compare np.vstack(), np.hstack(), np.concatenate()"
   ]
  },
  {
   "cell_type": "code",
   "execution_count": 22,
   "metadata": {},
   "outputs": [
    {
     "name": "stdout",
     "output_type": "stream",
     "text": [
      "vstack:\n",
      " [[1 2 3]\n",
      " [2 3 4]]\n",
      "hstack:\n",
      " [1 2 3 2 3 4]\n",
      "concatenate:\n",
      " [1 2 3 2 3 4]\n"
     ]
    }
   ],
   "source": [
    "import numpy as np\n",
    "\n",
    "a = np.array([1, 2, 3])\n",
    "b = np.array([2, 3, 4])\n",
    "\n",
    "print('vstack:\\n', np.vstack((a, b))) # Stack arrays in sequence vertically (row wise). @1\n",
    "print('hstack:\\n', np.hstack((a, b))) # Stack arrays in sequence horizontally (column wise). @2\n",
    "print('concatenate:\\n', np.concatenate((a, b))) # Join a sequence of arrays along an existing axis. @3"
   ]
  },
  {
   "cell_type": "code",
   "execution_count": 24,
   "metadata": {},
   "outputs": [
    {
     "name": "stdout",
     "output_type": "stream",
     "text": [
      "vstack:\n",
      " [[1]\n",
      " [2]\n",
      " [3]\n",
      " [2]\n",
      " [3]\n",
      " [4]]\n",
      "hstack:\n",
      " [[1 2]\n",
      " [2 3]\n",
      " [3 4]]\n",
      "concatenate:\n",
      " [[1]\n",
      " [2]\n",
      " [3]\n",
      " [2]\n",
      " [3]\n",
      " [4]]\n"
     ]
    }
   ],
   "source": [
    "c = np.array([[1], [2], [3]])\n",
    "d = np.array([[2], [3], [4]])\n",
    "\n",
    "print('vstack:\\n', np.vstack((c, d))) # Stack arrays in sequence vertically (row wise). @1\n",
    "print('hstack:\\n', np.hstack((c, d))) # Stack arrays in sequence horizontally (column wise). @2\n",
    "print('concatenate:\\n', np.concatenate((c, d))) # Join a sequence of arrays along an existing axis. @3"
   ]
  },
  {
   "cell_type": "markdown",
   "metadata": {},
   "source": [
    "@1: This is equivalent to concatenation along the **first axis** after 1-D arrays of shape `(N,)` have been reshaped to `(1,N)`.\n",
    "\n",
    "@2: This is equivalent to concatenation along the **second axis**, except for 1-D arrays where it concatenates along the first axis.\n",
    "\n",
    "@3: `concatenate((a1, a2, ...), axis=0, out=None)`. **Any axis** can be choosen. Default axis is 0."
   ]
  },
  {
   "cell_type": "markdown",
   "metadata": {},
   "source": [
    "**Summary in Chinese:**\n",
    "\n",
    "`np.concatenate` 默认是把矩阵的第 0 轴（第 1 个轴，批量轴）连接起来的. 特例：向量没有批量轴，此时直接首尾串联. 也可以选择 `axis`.\n",
    "\n",
    "`np.vstack` 是通过 0 轴（第 1 个轴，批量轴）把矩阵连接起来的，特例：遇见向量时，通过为向量添加新轴（批量轴），然后再进行连接.\n",
    "\n",
    "`np.hstack` 是通过第 2 个轴把矩阵连接起来的. 特例：向量没有 \"第 2 个轴\"，直接首位相接.\n",
    "\n",
    "在面对有批量轴的矩阵时: `np.concatenate` 的默认行为和 `np.vstack` 是相同的. 其之间的不同仅在于面对向量时.\n",
    "\n",
    "在面对向量时: `np.concatenate` 的默认行为和 `np.hstack` 是相同的. "
   ]
  },
  {
   "cell_type": "code",
   "execution_count": null,
   "metadata": {},
   "outputs": [],
   "source": []
  }
 ],
 "metadata": {
  "kernelspec": {
   "display_name": "Python 3",
   "language": "python",
   "name": "python3"
  },
  "language_info": {
   "codemirror_mode": {
    "name": "ipython",
    "version": 3
   },
   "file_extension": ".py",
   "mimetype": "text/x-python",
   "name": "python",
   "nbconvert_exporter": "python",
   "pygments_lexer": "ipython3",
   "version": "3.5.6"
  }
 },
 "nbformat": 4,
 "nbformat_minor": 2
}
