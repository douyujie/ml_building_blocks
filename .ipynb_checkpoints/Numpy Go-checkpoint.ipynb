{
 "cells": [
  {
   "cell_type": "markdown",
   "metadata": {},
   "source": [
    "# Numpy Go"
   ]
  },
  {
   "cell_type": "markdown",
   "metadata": {},
   "source": [
    "## Generating Arrays"
   ]
  },
  {
   "cell_type": "code",
   "execution_count": 27,
   "metadata": {},
   "outputs": [
    {
     "name": "stdout",
     "output_type": "stream",
     "text": [
      "A:\n",
      " [[ 0.  1.  2.  3.  4.]\n",
      " [10. 11. 12. 13. 14.]\n",
      " [20. 21. 22. 23. 24.]\n",
      " [30. 31. 32. 33. 34.]\n",
      " [40. 41. 42. 43. 44.]]\n",
      "\n",
      "B:\n",
      " [[35 49 64 11 86]\n",
      " [86 50 86 23 96]\n",
      " [29 61 33  3 38]\n",
      " [59 66 56  7 99]\n",
      " [21 67 33 37 64]]\n",
      "\n",
      "C:\n",
      " [[74 60 20 83 89]\n",
      " [16 87 73  7 49]\n",
      " [50  4 87  4 71]\n",
      " [86 72 86 54 39]\n",
      " [ 0 76 37 92 35]]\n",
      "\n",
      "D:\n",
      " [[ 0  1  2  3  4]\n",
      " [ 5  6  7  8  9]\n",
      " [10 11 12 13 14]\n",
      " [15 16 17 18 19]\n",
      " [20 21 22 23 24]]\n",
      "\n",
      "D_shuffled:\n",
      " [[ 0  1  2  3  4]\n",
      " [20 21 22 23 24]\n",
      " [15 16 17 18 19]\n",
      " [10 11 12 13 14]\n",
      " [ 5  6  7  8  9]]\n",
      "\n",
      "E:\n",
      " [[10 11 12 13 14]\n",
      " [ 5  6  7  8  9]\n",
      " [20 21 22 23 24]\n",
      " [15 16 17 18 19]\n",
      " [ 0  1  2  3  4]]\n",
      "\n"
     ]
    }
   ],
   "source": [
    "import numpy as np\n",
    "\n",
    "A = np.array([[n+10*m for n in range(5)] for m in range(5)], dtype='float64')\n",
    "print('A:\\n', A, end='\\n\\n')\n",
    "\n",
    "B = np.random.randint(100, size=(5, 5)) # @1\n",
    "print('B:\\n', B, end='\\n\\n')\n",
    "\n",
    "C = np.random.choice(100, (5, 5)) # @2\n",
    "print('C:\\n', C, end='\\n\\n')\n",
    "\n",
    "D = np.arange(25, dtype='int').reshape(5, 5) # @3\n",
    "print('D:\\n', D, end='\\n\\n')\n",
    "\n",
    "np.random.shuffle(D) # @4\n",
    "print('D_shuffled:\\n', D, end='\\n\\n')\n",
    "\n",
    "E = np.random.permutation(D) # @5\n",
    "print('E:\\n', E, end='\\n\\n')"
   ]
  },
  {
   "cell_type": "markdown",
   "metadata": {},
   "source": [
    "@1: `randint(low, high=None, size=None, dtype='l')` Return random integers from the \"discrete uniform\" distribution of\n",
    "the specified dtype in the \"half-open\" interval \\[`low`, `high`). If `high` is `None` (the default), then results are from [0, `low`).\n",
    "\n",
    "@2: `np.random.choice(a, size=None, replace=True, p=None)` Generates a random sample from a: If an ndarray, a random sample is generated from its elements. If an int, the random sample is generated as if a were np.arange(a)\n",
    "\n",
    "@3: Common data types that can be used with dtype are: `int`, `float`, `complex`, `bool`, etc. We can also explicitly define the **bit size** of the data types, for example: `int16`, `int64`, `float32`, `float64`, `complex128`, etc. Visit [numpy.data_types](https://www.numpy.org.cn/user_guide/numpy_basics/data_types.html) for more details.\n",
    "\n",
    "@4: `np.random.shuffle(x)`: Modify a sequence **in-place** by shuffling its contents. This function only shuffles the array along **the first axis** of a multi-dimensional array.\n",
    "\n",
    "@5: `np.random.permutation(x)`: Randomly permute a sequence, or return a permuted range. If `x` is a multi-dimensional array, it is only shuffled along its **first index**. If `x` is an integer, randomly permute ``np.arange(x)``. If `x` is an array, **make a copy** and shuffle the elements randomly."
   ]
  },
  {
   "cell_type": "markdown",
   "metadata": {},
   "source": [
    "### Compare np.random.randint & random.randint"
   ]
  },
  {
   "cell_type": "code",
   "execution_count": null,
   "metadata": {},
   "outputs": [],
   "source": [
    "# np.random.randint(low, high=None, size=None, dtype='l') \n",
    "# Return random integers from `low` (inclusive) to `high` (exclusive)\n",
    "\n",
    "# random.randint(a, b)\n",
    "# Return random integer in range [a, b], including both end points."
   ]
  },
  {
   "cell_type": "code",
   "execution_count": 89,
   "metadata": {},
   "outputs": [
    {
     "name": "stdout",
     "output_type": "stream",
     "text": [
      "A:\n",
      " [[0.30724316 0.79087085 0.65633142 0.33814552 0.4396678 ]\n",
      " [0.03463735 0.54576797 0.18399033 0.34879007 0.36254229]\n",
      " [0.40384877 0.24965217 0.22323893 0.7375096  0.16318439]\n",
      " [0.80182033 0.72455729 0.41606049 0.49571567 0.82389849]\n",
      " [0.63157215 0.57396807 0.29438008 0.79058877 0.70691893]]\n",
      "\n",
      "B:\n",
      " [[ 0.68346177 -0.3130113   0.86398395  0.96317944  0.75394931]\n",
      " [ 1.38441171  0.44999173  0.46438095  1.60060128 -0.90109521]\n",
      " [-0.46295955  1.64646929  1.60120506 -0.26872706 -0.60863494]\n",
      " [ 0.43785386 -0.3368861   0.12219972  1.14137366 -0.7246897 ]\n",
      " [ 1.34852095 -0.56821616  0.43062723  0.28836228 -0.09861638]]\n",
      "\n"
     ]
    }
   ],
   "source": [
    "import numpy as np\n",
    "\n",
    "A = np.random.rand(5, 5) # uniform random numbers in [0,1]\n",
    "print('A:\\n', A, end='\\n\\n')\n",
    "\n",
    "B = np.random.randn(5, 5) # standard normal distributed random numbers\n",
    "print('B:\\n', B, end='\\n\\n')"
   ]
  },
  {
   "cell_type": "markdown",
   "metadata": {},
   "source": [
    "## Generate from and Save to File"
   ]
  },
  {
   "cell_type": "code",
   "execution_count": 88,
   "metadata": {},
   "outputs": [
    {
     "name": "stdout",
     "output_type": "stream",
     "text": [
      "[[ 1.80e+03  1.00e+00  1.00e+00 -6.10e+00 -6.10e+00 -6.10e+00  1.00e+00]\n",
      " [ 1.80e+03  1.00e+00  2.00e+00 -1.54e+01 -1.54e+01 -1.54e+01  1.00e+00]\n",
      " [ 1.80e+03  1.00e+00  3.00e+00 -1.50e+01 -1.50e+01 -1.50e+01  1.00e+00]\n",
      " [ 1.80e+03  1.00e+00  4.00e+00 -1.93e+01 -1.93e+01 -1.93e+01  1.00e+00]\n",
      " [ 1.80e+03  1.00e+00  5.00e+00 -1.68e+01 -1.68e+01 -1.68e+01  1.00e+00]\n",
      " [ 1.80e+03  1.00e+00  6.00e+00 -1.14e+01 -1.14e+01 -1.14e+01  1.00e+00]\n",
      " [ 1.80e+03  1.00e+00  7.00e+00 -7.60e+00 -7.60e+00 -7.60e+00  1.00e+00]\n",
      " [ 1.80e+03  1.00e+00  8.00e+00 -7.10e+00 -7.10e+00 -7.10e+00  1.00e+00]\n",
      " [ 1.80e+03  1.00e+00  9.00e+00 -1.01e+01 -1.01e+01 -1.01e+01  1.00e+00]\n",
      " [ 1.80e+03  1.00e+00  1.00e+01 -9.50e+00 -9.50e+00 -9.50e+00  1.00e+00]]\n",
      "\n",
      "[[1800    1    1   -6]\n",
      " [1800    1    2  -15]\n",
      " [1800    1    3  -15]\n",
      " [1800    1    4  -19]\n",
      " [1800    1    5  -16]\n",
      " [1800    1    6  -11]\n",
      " [1800    1    7   -7]\n",
      " [1800    1    8   -7]\n",
      " [1800    1    9  -10]\n",
      " [1800    1   10   -9]]\n",
      "\n",
      "1.800000000000000000e+03 1.000000000000000000e+00 1.000000000000000000e+00 -6.000000000000000000e+00\r\n",
      "1.800000000000000000e+03 1.000000000000000000e+00 2.000000000000000000e+00 -1.500000000000000000e+01\r\n",
      "1.800000000000000000e+03 1.000000000000000000e+00 3.000000000000000000e+00 -1.500000000000000000e+01\r\n",
      "1.800000000000000000e+03 1.000000000000000000e+00 4.000000000000000000e+00 -1.900000000000000000e+01\r\n",
      "1.800000000000000000e+03 1.000000000000000000e+00 5.000000000000000000e+00 -1.600000000000000000e+01\r\n",
      "1.800000000000000000e+03 1.000000000000000000e+00 6.000000000000000000e+00 -1.100000000000000000e+01\r\n",
      "1.800000000000000000e+03 1.000000000000000000e+00 7.000000000000000000e+00 -7.000000000000000000e+00\r\n",
      "1.800000000000000000e+03 1.000000000000000000e+00 8.000000000000000000e+00 -7.000000000000000000e+00\r\n",
      "1.800000000000000000e+03 1.000000000000000000e+00 9.000000000000000000e+00 -1.000000000000000000e+01\r\n",
      "1.800000000000000000e+03 1.000000000000000000e+00 1.000000000000000000e+01 -9.000000000000000000e+00\r\n"
     ]
    }
   ],
   "source": [
    "import numpy as np\n",
    "\n",
    "data = np.genfromtxt('data.dat') # Load data from a text file, with missing values handled as specified. @1\n",
    "print(data, end='\\n\\n')\n",
    "\n",
    "data_modified = data[:, [0, 1, 2, 3]].astype('int64')\n",
    "print(data_modified, end='\\n\\n')\n",
    "\n",
    "np.savetxt('data_modified.txt', data_modified) # default format: '%.18e'\n",
    "!cat data_modified.txt"
   ]
  },
  {
   "cell_type": "markdown",
   "metadata": {},
   "source": [
    "@1: default dtype: None. Determined by the contents of each column, individually."
   ]
  },
  {
   "cell_type": "code",
   "execution_count": 71,
   "metadata": {},
   "outputs": [
    {
     "name": "stdout",
     "output_type": "stream",
     "text": [
      "[[0 0 0 0 0]\n",
      " [0 1 0 0 0]\n",
      " [0 0 2 0 0]\n",
      " [0 0 0 3 0]\n",
      " [0 0 0 0 4]]\n"
     ]
    }
   ],
   "source": [
    "import numpy as np\n",
    "\n",
    "A = np.diag(range(5))\n",
    "np.save('diag_matrix.npy', A) # Save an array to a binary file in NumPy ``.npy`` format.\n",
    "\n",
    "B = np.load('diag_matrix.npy')\n",
    "print(B)"
   ]
  },
  {
   "cell_type": "markdown",
   "metadata": {},
   "source": [
    "## Array Properties"
   ]
  },
  {
   "cell_type": "code",
   "execution_count": 74,
   "metadata": {},
   "outputs": [
    {
     "name": "stdout",
     "output_type": "stream",
     "text": [
      "8\n",
      "200\n",
      "2\n"
     ]
    }
   ],
   "source": [
    "import numpy as np\n",
    "\n",
    "A = np.random.randint(100, size=(5, 5))\n",
    "\n",
    "print(A.itemsize) # bytes per element\n",
    "print(A.nbytes) # number of bytes\n",
    "print(A.ndim) # number of dimensions"
   ]
  },
  {
   "cell_type": "markdown",
   "metadata": {},
   "source": [
    "## Compare a[:][:] and a[:, :]"
   ]
  },
  {
   "cell_type": "code",
   "execution_count": 4,
   "metadata": {},
   "outputs": [
    {
     "name": "stdout",
     "output_type": "stream",
     "text": [
      "[[1. 0. 0. 0. 0. 0. 0. 0. 0. 0.]\n",
      " [0. 1. 0. 0. 0. 0. 0. 0. 0. 0.]\n",
      " [0. 0. 1. 0. 0. 0. 0. 0. 0. 0.]]\n",
      "\n",
      "[[1. 0. 0.]\n",
      " [0. 1. 0.]\n",
      " [0. 0. 1.]\n",
      " [0. 0. 0.]]\n",
      "\n"
     ]
    }
   ],
   "source": [
    "import numpy as np\n",
    "\n",
    "I = np.eye(10)\n",
    "\n",
    "# compare difference\n",
    "print(I[0:4][0:3], end='\\n\\n')\n",
    "print(I[0:4, 0:3], end='\\n\\n')"
   ]
  },
  {
   "cell_type": "markdown",
   "metadata": {},
   "source": [
    "## Compare a[:, 0] and a[:, 0:1]"
   ]
  },
  {
   "cell_type": "code",
   "execution_count": 5,
   "metadata": {},
   "outputs": [
    {
     "name": "stdout",
     "output_type": "stream",
     "text": [
      "A[:, 0]:\n",
      " [0. 0. 0.]\n",
      "\n",
      "A[:, 0:1]:\n",
      " [[0.]\n",
      " [0.]\n",
      " [0.]]\n",
      "\n"
     ]
    }
   ],
   "source": [
    "import numpy as np\n",
    "\n",
    "A = np.zeros((3, 3))\n",
    "\n",
    "print('A[:, 0]:\\n', A[:, 0], end='\\n\\n')\n",
    "print('A[:, 0:1]:\\n', A[:, 0:1], end='\\n\\n')"
   ]
  },
  {
   "cell_type": "markdown",
   "metadata": {},
   "source": [
    "## Compare np.vstack(), np.hstack(), np.concatenate()"
   ]
  },
  {
   "cell_type": "code",
   "execution_count": 87,
   "metadata": {},
   "outputs": [
    {
     "name": "stdout",
     "output_type": "stream",
     "text": [
      "vstack:\n",
      " [[1 2 3]\n",
      " [2 3 4]]\n",
      "\n",
      "hstack:\n",
      " [1 2 3 2 3 4]\n",
      "\n",
      "concatenate:\n",
      " [1 2 3 2 3 4]\n",
      "\n"
     ]
    }
   ],
   "source": [
    "import numpy as np\n",
    "\n",
    "a = np.array([1, 2, 3])\n",
    "b = np.array([2, 3, 4])\n",
    "\n",
    "print('vstack:\\n', np.vstack((a, b)), end='\\n\\n') # Stack arrays in sequence vertically (row wise). @1\n",
    "print('hstack:\\n', np.hstack((a, b)), end='\\n\\n') # Stack arrays in sequence horizontally (column wise). @2\n",
    "print('concatenate:\\n', np.concatenate((a, b)), end='\\n\\n') # Join a sequence of arrays along an existing axis. @3"
   ]
  },
  {
   "cell_type": "code",
   "execution_count": 91,
   "metadata": {},
   "outputs": [
    {
     "name": "stdout",
     "output_type": "stream",
     "text": [
      "vstack:\n",
      " [[1]\n",
      " [2]\n",
      " [3]\n",
      " [2]\n",
      " [3]\n",
      " [4]]\n",
      "\n",
      "hstack:\n",
      " [[1 2]\n",
      " [2 3]\n",
      " [3 4]]\n",
      "\n",
      "concatenate:\n",
      " [[1]\n",
      " [2]\n",
      " [3]\n",
      " [2]\n",
      " [3]\n",
      " [4]]\n",
      "\n"
     ]
    }
   ],
   "source": [
    "c = np.array([[1], [2], [3]])\n",
    "d = np.array([[2], [3], [4]])\n",
    "\n",
    "print('vstack:\\n', np.vstack((c, d)), end='\\n\\n') # Stack arrays in sequence vertically (row wise). @1\n",
    "print('hstack:\\n', np.hstack((c, d)), end='\\n\\n') # Stack arrays in sequence horizontally (column wise). @2\n",
    "print('concatenate:\\n', np.concatenate((c, d)), end='\\n\\n') # Join a sequence of arrays along an existing axis. @3"
   ]
  },
  {
   "cell_type": "markdown",
   "metadata": {},
   "source": [
    "@1: This is equivalent to concatenation along the **first axis** after 1-D arrays of shape `(N,)` have been reshaped to `(1,N)`.\n",
    "\n",
    "@2: This is equivalent to concatenation along the **second axis**, except for 1-D arrays where it concatenates along the first axis.\n",
    "\n",
    "@3: `concatenate((a1, a2, ...), axis=0, out=None)`. **Any axis** can be choosen. Default axis is 0."
   ]
  },
  {
   "cell_type": "markdown",
   "metadata": {},
   "source": [
    "**Summary in Chinese:**\n",
    "\n",
    "`np.concatenate` 默认是把矩阵的第 0 轴（第 1 个轴，批量轴）连接起来的. 特例：向量没有批量轴，此时直接首尾串联. 也可以选择 `axis`.\n",
    "\n",
    "`np.vstack` 是通过 0 轴（第 1 个轴，批量轴）把矩阵连接起来的，特例：遇见向量时，通过为向量添加新轴（批量轴），然后再进行连接.\n",
    "\n",
    "`np.hstack` 是通过第 2 个轴把矩阵连接起来的. 特例：向量没有 \"第 2 个轴\"，直接首位相接.\n",
    "\n",
    "在面对有批量轴的矩阵时: `np.concatenate` 的默认行为和 `np.vstack` 是相同的. 其之间的不同仅在于面对向量时.\n",
    "\n",
    "在面对向量时: `np.concatenate` 的默认行为和 `np.hstack` 是相同的. "
   ]
  },
  {
   "cell_type": "markdown",
   "metadata": {},
   "source": [
    "## Compare flatten(), ravel(), reshape()"
   ]
  },
  {
   "cell_type": "code",
   "execution_count": 186,
   "metadata": {},
   "outputs": [
    {
     "name": "stdout",
     "output_type": "stream",
     "text": [
      "B:\n",
      " [ 0  1  2  3  4 10 11 12 13 14 20 21 22 23 24 30 31 32 33 34 40 41 42 43\n",
      " 44]\n",
      "\n",
      "C:\n",
      " [ 0  1  2  3  4 10 11 12 13 14 20 21 22 23 24 30 31 32 33 34 40 41 42 43\n",
      " 44]\n",
      "\n",
      "D:\n",
      " [ 0  1  2  3  4 10 11 12 13 14 20 21 22 23 24 30 31 32 33 34 40 41 42 43\n",
      " 44]\n",
      "\n",
      "A after change B:\n",
      " [[ 0  1  2  3  4]\n",
      " [10 11 12 13 14]\n",
      " [20 21 22 23 24]\n",
      " [30 31 32 33 34]\n",
      " [40 41 42 43 44]]\n",
      "\n",
      "A after change C:\n",
      " [[99  1  2  3  4]\n",
      " [10 11 12 13 14]\n",
      " [20 21 22 23 24]\n",
      " [30 31 32 33 34]\n",
      " [40 41 42 43 44]]\n",
      "\n",
      "A after change D:\n",
      " [[ 0  1  2  3  4]\n",
      " [10 11 12 13 14]\n",
      " [20 21 22 23 24]\n",
      " [30 31 32 33 34]\n",
      " [40 41 42 43 44]]\n",
      "\n"
     ]
    }
   ],
   "source": [
    "import numpy as np\n",
    "\n",
    "A = np.array([[n+10*m for n in range(5)] for m in range(5)])\n",
    "\n",
    "B = A.flatten() # Return a copy of the array collapsed into one dimension.\n",
    "print('B:\\n', B, end='\\n\\n')\n",
    "\n",
    "C = A.ravel() # Same effect with flatten(). But as we modify C, A also affected\n",
    "print('C:\\n', C, end='\\n\\n')\n",
    "\n",
    "D = A.reshape(-1) # Same effect with flatten(). But as we mpdify D, A also affected\n",
    "print('D:\\n', D, end='\\n\\n')\n",
    "\n",
    "B[0] = 99\n",
    "print('A after change B:\\n', A, end='\\n\\n')\n",
    "\n",
    "C[0] = 99\n",
    "print('A after change C:\\n', A, end='\\n\\n')\n",
    "\n",
    "D[0] = 0\n",
    "print('A after change D:\\n', A, end='\\n\\n')"
   ]
  },
  {
   "cell_type": "markdown",
   "metadata": {},
   "source": [
    "So we need to avoid use `np.ravel()` if we don't want to modify the origin array. \n",
    "\n",
    "To avoid modify original array unintentional, wen can use `np.copy()`"
   ]
  },
  {
   "cell_type": "markdown",
   "metadata": {},
   "source": [
    "### np.copy()"
   ]
  },
  {
   "cell_type": "code",
   "execution_count": 5,
   "metadata": {},
   "outputs": [
    {
     "name": "stdout",
     "output_type": "stream",
     "text": [
      "A after modified B:\n",
      " [[0 0 0]\n",
      " [0 0 0]\n",
      " [0 0 0]]\n",
      "\n",
      "A after modified C:\n",
      " [[0 0 0]\n",
      " [0 0 0]\n",
      " [0 0 0]]\n",
      "\n",
      "A after modified D:\n",
      " [[1 0 0]\n",
      " [0 0 0]\n",
      " [0 0 0]]\n",
      "\n",
      "A after modified A_:\n",
      " [[1 1 0]\n",
      " [0 0 0]\n",
      " [0 0 0]]\n",
      "\n"
     ]
    }
   ],
   "source": [
    "import numpy as np\n",
    "\n",
    "A = np.zeros((3,3), dtype='int')\n",
    "B = np.copy(A) # equivalent to A.copy()\n",
    "C = np.array(A) # equivalent to A.copy()\n",
    "\n",
    "D = np.asarray(A) # Compare to np.array\n",
    "A_ = A\n",
    "\n",
    "B[0, 0] = 1\n",
    "print('A after modified B:\\n', A, end='\\n\\n')\n",
    "\n",
    "C[0, 0] = 1\n",
    "print('A after modified C:\\n', A, end='\\n\\n')\n",
    "\n",
    "D[0, 0] = 1\n",
    "print('A after modified D:\\n', A, end='\\n\\n')\n",
    "\n",
    "A_[0, 1] = 1\n",
    "print('A after modified A_:\\n', A, end='\\n\\n')"
   ]
  },
  {
   "cell_type": "markdown",
   "metadata": {},
   "source": [
    "### np.reshape() and a.reshape()"
   ]
  },
  {
   "cell_type": "code",
   "execution_count": 122,
   "metadata": {},
   "outputs": [
    {
     "data": {
      "text/plain": [
       "array([[1],\n",
       "       [2],\n",
       "       [3]])"
      ]
     },
     "execution_count": 122,
     "metadata": {},
     "output_type": "execute_result"
    }
   ],
   "source": [
    "import numpy as np\n",
    "\n",
    "a = np.array([1,2,3])\n",
    "np.reshape(a, (-1,1)) # we must pass int or tuple of ints as the second positional argument"
   ]
  },
  {
   "cell_type": "code",
   "execution_count": 123,
   "metadata": {},
   "outputs": [
    {
     "data": {
      "text/plain": [
       "array([[1],\n",
       "       [2],\n",
       "       [3]])"
      ]
     },
     "execution_count": 123,
     "metadata": {},
     "output_type": "execute_result"
    }
   ],
   "source": [
    "a.reshape(-1,1) # elements of the shape parameter can be passed in as separate arguments"
   ]
  },
  {
   "cell_type": "code",
   "execution_count": 125,
   "metadata": {},
   "outputs": [
    {
     "data": {
      "text/plain": [
       "array([[1],\n",
       "       [2],\n",
       "       [3]])"
      ]
     },
     "execution_count": 125,
     "metadata": {},
     "output_type": "execute_result"
    }
   ],
   "source": [
    "a.reshape((-1,1)) # This also works"
   ]
  },
  {
   "cell_type": "markdown",
   "metadata": {},
   "source": [
    "## Slicing"
   ]
  },
  {
   "cell_type": "markdown",
   "metadata": {},
   "source": [
    "### Fancy Indexing"
   ]
  },
  {
   "cell_type": "code",
   "execution_count": 79,
   "metadata": {},
   "outputs": [
    {
     "name": "stdout",
     "output_type": "stream",
     "text": [
      "A:\n",
      " [[ 0  1  2  3  4]\n",
      " [10 11 12 13 14]\n",
      " [20 21 22 23 24]\n",
      " [30 31 32 33 34]\n",
      " [40 41 42 43 44]]\n"
     ]
    },
    {
     "data": {
      "text/plain": [
       "array([[10, 11, 12, 13, 14],\n",
       "       [20, 21, 22, 23, 24],\n",
       "       [30, 31, 32, 33, 34]])"
      ]
     },
     "execution_count": 79,
     "metadata": {},
     "output_type": "execute_result"
    }
   ],
   "source": [
    "import numpy as np\n",
    "\n",
    "A = np.array([[n+10*m for n in range(5)] for m in range(5)])\n",
    "print('A:\\n', A)\n",
    "\n",
    "row_indices = [1, 2, 3] # slice these rows of A\n",
    "A[row_indices]"
   ]
  },
  {
   "cell_type": "code",
   "execution_count": 102,
   "metadata": {},
   "outputs": [
    {
     "name": "stdout",
     "output_type": "stream",
     "text": [
      "v: [0 1 2 3 4]\n",
      "v<3: [ True  True  True False False]\n"
     ]
    }
   ],
   "source": [
    "import numpy as np\n",
    "\n",
    "v = np.arange(0, 5) # is a vector\n",
    "print('v:', v)\n",
    "print('v<3:', v<3)"
   ]
  },
  {
   "cell_type": "code",
   "execution_count": 198,
   "metadata": {},
   "outputs": [
    {
     "name": "stdout",
     "output_type": "stream",
     "text": [
      "A:\n",
      " [[ 0  1  2  3  4]\n",
      " [10 11 12 13 14]\n",
      " [20 21 22 23 24]\n",
      " [30 31 32 33 34]\n",
      " [40 41 42 43 44]]\n",
      "\n",
      "row_mask:\n",
      " [ True  True  True False False]\n",
      "\n",
      "col_mask:\n",
      " [ True  True  True False False]\n",
      "\n",
      "whole_mask:\n",
      " [[False False False False False]\n",
      " [False  True  True  True  True]\n",
      " [ True  True  True  True  True]\n",
      " [ True  True  True  True  True]\n",
      " [False False False False False]]\n",
      "\n",
      "mask indices:\n",
      " (array([1, 1, 1, 1, 2, 2, 2, 2, 2, 3, 3, 3, 3, 3]), array([1, 2, 3, 4, 0, 1, 2, 3, 4, 0, 1, 2, 3, 4]))\n",
      "\n",
      "row_masked rows of A:\n",
      " [[ 0  1  2  3  4]\n",
      " [10 11 12 13 14]\n",
      " [20 21 22 23 24]]\n",
      "\n",
      "column_masked columns of A:\n",
      " [[ 0  1  2]\n",
      " [10 11 12]\n",
      " [20 21 22]\n",
      " [30 31 32]\n",
      " [40 41 42]]\n",
      "\n",
      "whole_masked A:\n",
      " [11 12 13 14 20 21 22 23 24 30 31 32 33 34]\n",
      "whole_masked A (use indices):\n",
      " [11 12 13 14 20 21 22 23 24 30 31 32 33 34]\n"
     ]
    }
   ],
   "source": [
    "import numpy as np\n",
    "\n",
    "A = np.array([[n+10*m for n in range(5)] for m in range(5)])\n",
    "print('A:\\n', A, end='\\n\\n')\n",
    "\n",
    "row_mask = np.array([True, True, True, False, False])\n",
    "col_mask = np.array([1, 1, 1, 0, 0], dtype=bool)\n",
    "whole_mask = (10<A) * (A<40)\n",
    "indices = np.where(whole_mask)\n",
    "\n",
    "print('row_mask:\\n', row_mask, end='\\n\\n')\n",
    "print('col_mask:\\n', col_mask, end='\\n\\n')\n",
    "\n",
    "print('whole_mask:\\n', mask, end='\\n\\n')\n",
    "print('mask indices:\\n', indices, end='\\n\\n')\n",
    "\n",
    "print('row_masked rows of A:\\n', A[row_mask], end='\\n\\n') # First three rows of A\n",
    "print('column_masked columns of A:\\n', A[:, col_mask], end='\\n\\n') # First three columns of A\n",
    "print('whole_masked A:\\n', A[whole_mask])\n",
    "print('whole_masked A (use indices):\\n', A[indices])"
   ]
  },
  {
   "cell_type": "markdown",
   "metadata": {},
   "source": [
    "### Comparing some index methods"
   ]
  },
  {
   "cell_type": "code",
   "execution_count": 1,
   "metadata": {},
   "outputs": [
    {
     "name": "stdout",
     "output_type": "stream",
     "text": [
      "A:\n",
      " [[ 0  1  2  3  4]\n",
      " [10 11 12 13 14]\n",
      " [20 21 22 23 24]\n",
      " [30 31 32 33 34]\n",
      " [40 41 42 43 44]]\n",
      "\n",
      "[11 22 33]\n",
      "\n",
      "[[11 12 13]\n",
      " [21 22 23]\n",
      " [31 32 33]]\n",
      "\n"
     ]
    }
   ],
   "source": [
    "import numpy as np\n",
    "\n",
    "A = np.array([[n+10*m for n in range(5)] for m in range(5)])\n",
    "print('A:\\n', A, end='\\n\\n')\n",
    "\n",
    "# compare these two:\n",
    "print(A[[1,2,3], [1,2,3]], end='\\n\\n') # indexed elements whose x in first [1,2,3] and y in second [1,2,3]\n",
    "                                       # same as np.array([A[1, 1], A[2, 2], A[3, 3]])\n",
    "print(A[[1,2,3], 1:4], end='\\n\\n') # same as np.array([A[1, 1:4], A[2, 1:4], A[3, 1:4]])"
   ]
  },
  {
   "cell_type": "code",
   "execution_count": 7,
   "metadata": {},
   "outputs": [
    {
     "name": "stdout",
     "output_type": "stream",
     "text": [
      "A:\n",
      " [[[5 8]\n",
      "  [8 3]]\n",
      "\n",
      " [[8 5]\n",
      "  [9 4]]]\n",
      "\n",
      "A[:, [0, 1], [0, 1]]:\n",
      " [[5 3]\n",
      " [8 4]]\n"
     ]
    }
   ],
   "source": [
    "import numpy as np\n",
    "\n",
    "A = np.random.randint(10, size=(2, 2, 2))\n",
    "print('A:\\n', A, end='\\n\\n')\n",
    "\n",
    "print('A[:, [0, 1], [0, 1]]:\\n', A[:, [0, 1], [0, 1]]) # indexed elements on part of axis"
   ]
  },
  {
   "cell_type": "code",
   "execution_count": 18,
   "metadata": {},
   "outputs": [
    {
     "name": "stdout",
     "output_type": "stream",
     "text": [
      "A:\n",
      " [[ 0  1  2]\n",
      " [10 11 12]\n",
      " [20 21 22]]\n",
      "\n",
      "A[0, 0]:\n",
      " 0\n",
      "\n",
      "A[[0, 0]]:\n",
      " [[0 1 2]\n",
      " [0 1 2]]\n",
      "\n",
      "A[[0], [0]]:\n",
      " [0]\n",
      "\n"
     ]
    }
   ],
   "source": [
    "import numpy as np\n",
    "\n",
    "A = np.array([[n+10*m for n in range(3)] for m in range(3)])\n",
    "print('A:\\n', A, end='\\n\\n')\n",
    "\n",
    "# Compare these:\n",
    "print('A[0, 0]:\\n', A[0, 0], end='\\n\\n') # same as A[0, 0]\n",
    "print('A[[0, 0]]:\\n', A[[0, 0]], end='\\n\\n') # same as np.array(A[0], A[0])\n",
    "print('A[[0], [0]]:\\n', A[[0], [0]], end='\\n\\n') # same as np.array(A[0, 0])"
   ]
  },
  {
   "cell_type": "markdown",
   "metadata": {},
   "source": [
    "### Comparing np.where and np.argwhere"
   ]
  },
  {
   "cell_type": "code",
   "execution_count": 133,
   "metadata": {},
   "outputs": [
    {
     "name": "stdout",
     "output_type": "stream",
     "text": [
      "A:\n",
      " [[2 3 0]\n",
      " [7 1 1]\n",
      " [1 4 4]]\n",
      "\n",
      "np.where(A>4):\n",
      " (array([1]), array([0]))\n",
      "\n",
      "np.argwhere(A>4):\n",
      " [[1 0]]\n",
      "\n",
      "A[np.where(A>4)]:\n",
      " [7]\n",
      "\n",
      "A[np.argwhere(A>4)]:\n",
      " [[[7 1 1]\n",
      "  [2 3 0]]]\n",
      "\n"
     ]
    }
   ],
   "source": [
    "import numpy as np\n",
    "\n",
    "np.random.seed(24)\n",
    "\n",
    "A = np.random.randint(10, size=(3,3))\n",
    "print('A:\\n', A, end='\\n\\n')\n",
    "\n",
    "print('np.where(A>4):\\n', np.where(A>4), end='\\n\\n')\n",
    "print('np.argwhere(A>4):\\n', np.argwhere(A>4), end='\\n\\n')\n",
    "\n",
    "print('A[np.where(A>4)]:\\n',A[np.where(A>4)], end='\\n\\n')\n",
    "print('A[np.argwhere(A>4)]:\\n', A[np.argwhere(A>4)], end='\\n\\n')"
   ]
  },
  {
   "cell_type": "markdown",
   "metadata": {},
   "source": [
    "## Linear Algebra"
   ]
  },
  {
   "cell_type": "markdown",
   "metadata": {},
   "source": [
    "### Element-wise Multiplication & Matrix Multiplication"
   ]
  },
  {
   "cell_type": "code",
   "execution_count": 105,
   "metadata": {},
   "outputs": [
    {
     "name": "stdout",
     "output_type": "stream",
     "text": [
      "A:\n",
      " [[ 0  1  2  3  4]\n",
      " [10 11 12 13 14]\n",
      " [20 21 22 23 24]\n",
      " [30 31 32 33 34]\n",
      " [40 41 42 43 44]]\n",
      "\n",
      "A*A:\n",
      " [[   0    1    4    9   16]\n",
      " [ 100  121  144  169  196]\n",
      " [ 400  441  484  529  576]\n",
      " [ 900  961 1024 1089 1156]\n",
      " [1600 1681 1764 1849 1936]]\n",
      "\n",
      "np.dot(A, A):\n",
      " [[ 300  310  320  330  340]\n",
      " [1300 1360 1420 1480 1540]\n",
      " [2300 2410 2520 2630 2740]\n",
      " [3300 3460 3620 3780 3940]\n",
      " [4300 4510 4720 4930 5140]]\n",
      "\n",
      "np.matrix(A) * np.matrix(A):\n",
      " [[ 300  310  320  330  340]\n",
      " [1300 1360 1420 1480 1540]\n",
      " [2300 2410 2520 2630 2740]\n",
      " [3300 3460 3620 3780 3940]\n",
      " [4300 4510 4720 4930 5140]]\n",
      "\n"
     ]
    }
   ],
   "source": [
    "import numpy as np\n",
    "\n",
    "A = np.array([[n + 10*m for n in range(5)] for m in range(5)])\n",
    "print('A:\\n', A, end='\\n\\n')\n",
    "\n",
    "print('A*A:\\n', A*A, end='\\n\\n') # Element-wise Multiplication\n",
    "print('np.dot(A, A):\\n', np.dot(A, A), end='\\n\\n') # Matrix Multiplication\n",
    "print('np.matrix(A) * np.matrix(A):\\n', np.matrix(A) * np.matrix(A), end='\\n\\n') # Matrix Multiplication"
   ]
  },
  {
   "cell_type": "markdown",
   "metadata": {},
   "source": [
    "### Matrix Computations"
   ]
  },
  {
   "cell_type": "code",
   "execution_count": 115,
   "metadata": {},
   "outputs": [
    {
     "name": "stdout",
     "output_type": "stream",
     "text": [
      "A:\n",
      " [[6 0 8]\n",
      " [8 9 6]\n",
      " [0 8 1]]\n",
      "\n",
      "det(A):\n",
      " 277.99999999999994\n",
      "\n",
      "inv(A):\n",
      " [[-0.14028777  0.23021583 -0.25899281]\n",
      " [-0.02877698  0.02158273  0.10071942]\n",
      " [ 0.23021583 -0.17266187  0.1942446 ]]\n",
      "\n",
      "inv(A) * A:\n",
      " [[ 1.00000000e+00 -4.44089210e-16 -3.88578059e-16]\n",
      " [ 0.00000000e+00  1.00000000e+00 -1.38777878e-17]\n",
      " [ 0.00000000e+00  0.00000000e+00  1.00000000e+00]]\n",
      "\n"
     ]
    }
   ],
   "source": [
    "import numpy as np\n",
    "\n",
    "A = np.random.randint(10, size=(3, 3))\n",
    "print('A:\\n', A, end='\\n\\n')\n",
    "print('det(A):\\n', np.linalg.det(A), end='\\n\\n')\n",
    "print('inv(A):\\n', np.linalg.inv(A), end='\\n\\n') # equivalent to C.I\n",
    "print('inv(A) * A:\\n', np.dot(np.linalg.inv(A), A), end='\\n\\n')"
   ]
  },
  {
   "cell_type": "markdown",
   "metadata": {},
   "source": [
    "## Data Processing"
   ]
  },
  {
   "cell_type": "code",
   "execution_count": 182,
   "metadata": {},
   "outputs": [
    {
     "name": "stdout",
     "output_type": "stream",
     "text": [
      "A:\n",
      " [[30 67 79 72 36]\n",
      " [47 91  0 63 91]\n",
      " [97 33  4 24 55]\n",
      " [81 93 27 69 35]\n",
      " [47 22 98 49 36]]\n",
      "\n",
      "A.mean(): 53.84\n",
      "A.std(): 28.576465841667687\n",
      "A.var(): 816.6144\n",
      "\n",
      "A.min(): 0\n",
      "A.max(): 98\n",
      "\n",
      "A.argmin(): 7\n",
      "A.argmax(): 22\n",
      "\n",
      "np.where(A.max()): (array([4]), array([2]))\n",
      "np.where(A.min()): (array([1]), array([2]))\n",
      "\n",
      "np.argwhere(A.max()): [[4 2]]\n",
      "np.argwhere(A.min()): [[1 2]]\n",
      "\n",
      "A.sum(): 1346\n",
      "A.prod() 0\n",
      "\n",
      "A.cumsum(axis=1):\n",
      " [[ 30  97 176 248 284]\n",
      " [ 47 138 138 201 292]\n",
      " [ 97 130 134 158 213]\n",
      " [ 81 174 201 270 305]\n",
      " [ 47  69 167 216 252]]\n",
      "\n",
      "A.cumprod(axis=1):\n",
      " [[       30      2010    158790  11432880 411583680]\n",
      " [       47      4277         0         0         0]\n",
      " [       97      3201     12804    307296  16901280]\n",
      " [       81      7533    203391  14033979 491189265]\n",
      " [       47      1034    101332   4965268 178749648]]\n",
      "\n",
      "A.trace(): 230\n",
      "\n"
     ]
    }
   ],
   "source": [
    "import numpy as np\n",
    "\n",
    "A = np.random.randint(100, size=(5, 5))\n",
    "print('A:\\n', A, end='\\n\\n')\n",
    "\n",
    "print('A.mean():', A.mean()) # equivalent to np.mean(A)\n",
    "print('A.std():', A.std()) # equivalent to np.std(A)\n",
    "print('A.var():', A.var(), end='\\n\\n') # equivalent to np.var(A)\n",
    "\n",
    "print('A.min():', A.min()) \n",
    "print('A.max():', A.max(), end='\\n\\n')\n",
    "\n",
    "print('A.argmin():', A.argmin()) # equivalent to np.argmin(A)\n",
    "print('A.argmax():', A.argmax(), end='\\n\\n') # equivalent to np.argmax(A)\n",
    "\n",
    "print('np.where(A.max()):', np.where(A == A.max())) \n",
    "print('np.where(A.min()):', np.where(A == A.min()), end='\\n\\n') \n",
    "\n",
    "print('np.argwhere(A.max()):', np.argwhere(A == A.max())) \n",
    "print('np.argwhere(A.min()):', np.argwhere(A == A.min()), end='\\n\\n') \n",
    "\n",
    "print('A.sum():', A.sum()) # equivalent to np.sum(A)\n",
    "print('A.prod()', A.prod(), end='\\n\\n') # quivalent to np.prod(A)\n",
    "\n",
    "print('A.cumsum(axis=1):\\n', A.cumsum(axis=1), end='\\n\\n') # equivalent to np.cumsum(A, axis=1)\n",
    "print('A.cumprod(axis=1):\\n', A.cumprod(axis=1), end='\\n\\n') # equivalent to np.cumprod(A, axis=1)\n",
    "\n",
    "print('A.trace():', A.trace(), end='\\n\\n') # # equivalent to np.trace(A)"
   ]
  },
  {
   "cell_type": "markdown",
   "metadata": {},
   "source": [
    "### np.unique() & sub-arrays"
   ]
  },
  {
   "cell_type": "code",
   "execution_count": 155,
   "metadata": {},
   "outputs": [
    {
     "name": "stdout",
     "output_type": "stream",
     "text": [
      "A:\n",
      " [[1.  0.1]\n",
      " [1.  0.2]\n",
      " [1.  0.3]\n",
      " [2.  0.2]\n",
      " [2.  0.3]\n",
      " [2.  0.3]\n",
      " [3.  0.1]\n",
      " [3.  0.1]\n",
      " [3.  0.2]]\n",
      "\n",
      "np.unique(A[:, 0]):\n",
      " [1. 2. 3.]\n",
      "\n",
      "2nd col mean where 1st col ==1:\n",
      " 0.20000000000000004\n"
     ]
    },
    {
     "data": {
      "image/png": "[encoded data removed]",
      "text/plain": [
       "<Figure size 432x288 with 1 Axes>"
      ]
     },
     "metadata": {
      "needs_background": "light"
     },
     "output_type": "display_data"
    }
   ],
   "source": [
    "import numpy as np\n",
    "import matplotlib\n",
    "matplotlib.use('TkAgg')\n",
    "%matplotlib inline\n",
    "import matplotlib.pyplot as plt\n",
    "\n",
    "A = np.array([[1,0.1], [1, 0.2], [1, 0.3], [2, 0.2], [2, 0.3], [2, 0.3], [3, 0.1], [3, 0.1], [3, 0.2]])\n",
    "print('A:\\n', A, end='\\n\\n')\n",
    "\n",
    "print('np.unique(A[:, 0]):\\n', np.unique(A[:, 0]), end='\\n\\n') # unique\n",
    "print('2nd col mean where 1st col ==1:\\n', np.mean(A[A[:, 0] == 1, 1])) # sub-array\n",
    "\n",
    "\n",
    "# An example\n",
    "first_col = np.arange(1, 4)\n",
    "second_col_mean = [np.mean(A[A[:,0] == i, 1]) for i in first_col]\n",
    "\n",
    "fig, ax = plt.subplots()\n",
    "ax.bar(first_col, second_col_mean)\n",
    "ax.set_xlabel('1st col')\n",
    "ax.set_ylabel('2nd col')\n",
    "plt.show()"
   ]
  },
  {
   "cell_type": "markdown",
   "metadata": {},
   "source": [
    "### np.any() & np.all()"
   ]
  },
  {
   "cell_type": "code",
   "execution_count": 205,
   "metadata": {},
   "outputs": [
    {
     "name": "stdout",
     "output_type": "stream",
     "text": [
      "b: [1 2 3]\n",
      "c: [1 4 9]\n",
      "True\n",
      "False\n",
      "True\n"
     ]
    }
   ],
   "source": [
    "import numpy as np\n",
    "\n",
    "a = np.array([1,2,3])\n",
    "b = a.copy()\n",
    "c = a ** 2\n",
    "\n",
    "print('b:', b)\n",
    "print('c:', c)\n",
    "\n",
    "print((a==b).all()) # equivalent to np.all(a==b)\n",
    "print((a==c).all()) \n",
    "print((a==c).any()) # equivalent to np.any(a==b)"
   ]
  },
  {
   "cell_type": "markdown",
   "metadata": {},
   "source": [
    "## Useful APIs "
   ]
  },
  {
   "cell_type": "markdown",
   "metadata": {},
   "source": [
    "### np.max(), np.sum()"
   ]
  },
  {
   "cell_type": "code",
   "execution_count": 102,
   "metadata": {},
   "outputs": [
    {
     "data": {
      "text/plain": [
       "array([[0, 0, 6, 7, 5],\n",
       "       [7, 9, 1, 1, 4],\n",
       "       [4, 9, 3, 7, 6],\n",
       "       [0, 5, 4, 4, 0],\n",
       "       [0, 3, 5, 6, 5]])"
      ]
     },
     "execution_count": 102,
     "metadata": {},
     "output_type": "execute_result"
    }
   ],
   "source": [
    "import numpy as np\n",
    "\n",
    "A = np.random.randint(0, 10, size=(5, 5))\n",
    "A"
   ]
  },
  {
   "cell_type": "code",
   "execution_count": 103,
   "metadata": {},
   "outputs": [
    {
     "data": {
      "text/plain": [
       "array([7, 9, 9, 5, 6])"
      ]
     },
     "execution_count": 103,
     "metadata": {},
     "output_type": "execute_result"
    }
   ],
   "source": [
    "A.max(axis=1)"
   ]
  },
  {
   "cell_type": "code",
   "execution_count": 105,
   "metadata": {},
   "outputs": [
    {
     "data": {
      "text/plain": [
       "array([18, 22, 29, 13, 19])"
      ]
     },
     "execution_count": 105,
     "metadata": {},
     "output_type": "execute_result"
    }
   ],
   "source": [
    "A.sum(axis=1)"
   ]
  },
  {
   "cell_type": "markdown",
   "metadata": {},
   "source": [
    "Notice that `max` and `sum` all return array in row. Same phenomenon also happens in slice:"
   ]
  },
  {
   "cell_type": "code",
   "execution_count": 106,
   "metadata": {},
   "outputs": [
    {
     "data": {
      "text/plain": [
       "array([0, 7, 4, 0, 0])"
      ]
     },
     "execution_count": 106,
     "metadata": {},
     "output_type": "execute_result"
    }
   ],
   "source": [
    "A[:, 0] # We can use this property when broadcast."
   ]
  },
  {
   "cell_type": "code",
   "execution_count": 109,
   "metadata": {},
   "outputs": [
    {
     "data": {
      "text/plain": [
       "array([[7],\n",
       "       [9],\n",
       "       [9],\n",
       "       [5],\n",
       "       [6]])"
      ]
     },
     "execution_count": 109,
     "metadata": {},
     "output_type": "execute_result"
    }
   ],
   "source": [
    "A.max(axis=1,keepdims=True) # If keepdims is set to True, the axes which are reduced are left in the result"
   ]
  },
  {
   "cell_type": "markdown",
   "metadata": {},
   "source": [
    "`max` and `sum` can take several axes:"
   ]
  },
  {
   "cell_type": "code",
   "execution_count": 110,
   "metadata": {},
   "outputs": [
    {
     "data": {
      "text/plain": [
       "array([[[ 5, 46, 59,  3],\n",
       "        [31, 81, 27, 30],\n",
       "        [21, 26,  0, 36]],\n",
       "\n",
       "       [[69, 98,  5, 76],\n",
       "        [48, 55, 77, 39],\n",
       "        [74, 88, 19, 81]]])"
      ]
     },
     "execution_count": 110,
     "metadata": {},
     "output_type": "execute_result"
    }
   ],
   "source": [
    "B = np.random.randint(100, size=(2, 3, 4))\n",
    "B"
   ]
  },
  {
   "cell_type": "code",
   "execution_count": 113,
   "metadata": {},
   "outputs": [
    {
     "data": {
      "text/plain": [
       "array([74, 98, 77, 81])"
      ]
     },
     "execution_count": 113,
     "metadata": {},
     "output_type": "execute_result"
    }
   ],
   "source": [
    "B.max(axis=(0, 1))"
   ]
  },
  {
   "cell_type": "code",
   "execution_count": 114,
   "metadata": {},
   "outputs": [
    {
     "data": {
      "text/plain": [
       "array([361, 388, 345])"
      ]
     },
     "execution_count": 114,
     "metadata": {},
     "output_type": "execute_result"
    }
   ],
   "source": [
    "B.sum(axis=(0, 2))"
   ]
  },
  {
   "cell_type": "markdown",
   "metadata": {},
   "source": [
    "### np.pad()"
   ]
  },
  {
   "cell_type": "code",
   "execution_count": 115,
   "metadata": {},
   "outputs": [],
   "source": [
    "import numpy as np"
   ]
  },
  {
   "cell_type": "code",
   "execution_count": 116,
   "metadata": {},
   "outputs": [
    {
     "data": {
      "text/plain": [
       "array([[[83, 33, 49, 13],\n",
       "        [46, 36, 58,  3],\n",
       "        [15, 61, 35, 43]],\n",
       "\n",
       "       [[87, 96,  9, 98],\n",
       "        [10, 14, 26, 53],\n",
       "        [68, 35, 90, 17]]])"
      ]
     },
     "execution_count": 116,
     "metadata": {},
     "output_type": "execute_result"
    }
   ],
   "source": [
    "A = np.random.randint(100, size=(2, 3, 4))\n",
    "A"
   ]
  },
  {
   "cell_type": "code",
   "execution_count": 117,
   "metadata": {},
   "outputs": [
    {
     "data": {
      "text/plain": [
       "array([[[ 0,  0,  0,  0,  0,  0],\n",
       "        [ 0, 83, 33, 49, 13,  0],\n",
       "        [ 0, 46, 36, 58,  3,  0],\n",
       "        [ 0, 15, 61, 35, 43,  0],\n",
       "        [ 0,  0,  0,  0,  0,  0]],\n",
       "\n",
       "       [[ 0,  0,  0,  0,  0,  0],\n",
       "        [ 0, 87, 96,  9, 98,  0],\n",
       "        [ 0, 10, 14, 26, 53,  0],\n",
       "        [ 0, 68, 35, 90, 17,  0],\n",
       "        [ 0,  0,  0,  0,  0,  0]]])"
      ]
     },
     "execution_count": 117,
     "metadata": {},
     "output_type": "execute_result"
    }
   ],
   "source": [
    "B = np.pad(A, pad_width=((0,),(1,),(1,)), mode='constant', constant_values=(0,))\n",
    "B"
   ]
  },
  {
   "cell_type": "markdown",
   "metadata": {},
   "source": [
    "## Broadcast test"
   ]
  },
  {
   "cell_type": "markdown",
   "metadata": {},
   "source": [
    "### np.newaxis"
   ]
  },
  {
   "cell_type": "code",
   "execution_count": 6,
   "metadata": {},
   "outputs": [],
   "source": [
    "import numpy as np"
   ]
  },
  {
   "cell_type": "code",
   "execution_count": 7,
   "metadata": {},
   "outputs": [
    {
     "data": {
      "text/plain": [
       "array([[[69, 80, 26, 61],\n",
       "        [79, 47, 63, 73],\n",
       "        [ 8, 58, 33, 16]],\n",
       "\n",
       "       [[64, 74, 90, 63],\n",
       "        [95, 53, 21, 20],\n",
       "        [58, 27,  0, 57]]])"
      ]
     },
     "execution_count": 7,
     "metadata": {},
     "output_type": "execute_result"
    }
   ],
   "source": [
    "A = np.random.randint(100, size=(2, 3, 4))\n",
    "A"
   ]
  },
  {
   "cell_type": "code",
   "execution_count": 8,
   "metadata": {},
   "outputs": [
    {
     "data": {
      "text/plain": [
       "array([1, 2, 3])"
      ]
     },
     "execution_count": 8,
     "metadata": {},
     "output_type": "execute_result"
    }
   ],
   "source": [
    "B = np.array([1, 2, 3])\n",
    "B"
   ]
  },
  {
   "cell_type": "code",
   "execution_count": 9,
   "metadata": {},
   "outputs": [
    {
     "data": {
      "text/plain": [
       "array([[[70, 81, 27, 62],\n",
       "        [81, 49, 65, 75],\n",
       "        [11, 61, 36, 19]],\n",
       "\n",
       "       [[65, 75, 91, 64],\n",
       "        [97, 55, 23, 22],\n",
       "        [61, 30,  3, 60]]])"
      ]
     },
     "execution_count": 9,
     "metadata": {},
     "output_type": "execute_result"
    }
   ],
   "source": [
    "A + B[None, :, None] # None is equivalent to np.newaxis"
   ]
  },
  {
   "cell_type": "code",
   "execution_count": 10,
   "metadata": {},
   "outputs": [
    {
     "data": {
      "text/plain": [
       "True"
      ]
     },
     "execution_count": 10,
     "metadata": {},
     "output_type": "execute_result"
    }
   ],
   "source": [
    "np.newaxis is None"
   ]
  },
  {
   "cell_type": "code",
   "execution_count": 15,
   "metadata": {},
   "outputs": [
    {
     "data": {
      "text/plain": [
       "array([[1., 1., 1., 1., 1.]])"
      ]
     },
     "execution_count": 15,
     "metadata": {},
     "output_type": "execute_result"
    }
   ],
   "source": [
    "C = np.ones((5,))\n",
    "C[None] # equivalent to C[None, :]"
   ]
  },
  {
   "cell_type": "markdown",
   "metadata": {},
   "source": [
    "### broadcast  when 1 happens"
   ]
  },
  {
   "cell_type": "code",
   "execution_count": 134,
   "metadata": {},
   "outputs": [],
   "source": [
    "import numpy as np"
   ]
  },
  {
   "cell_type": "code",
   "execution_count": 136,
   "metadata": {},
   "outputs": [
    {
     "data": {
      "text/plain": [
       "array([[[[ 0, 12],\n",
       "         [95, 33]]],\n",
       "\n",
       "\n",
       "       [[[ 1, 60],\n",
       "         [55, 70]]]])"
      ]
     },
     "execution_count": 136,
     "metadata": {},
     "output_type": "execute_result"
    }
   ],
   "source": [
    "A = np.random.randint(100, size=(2, 1, 2, 2)) # one happens on second dimension\n",
    "A"
   ]
  },
  {
   "cell_type": "code",
   "execution_count": 137,
   "metadata": {},
   "outputs": [
    {
     "data": {
      "text/plain": [
       "array([[[0.1, 0.1],\n",
       "        [0.1, 0.1]],\n",
       "\n",
       "       [[0.1, 0.1],\n",
       "        [0.1, 0.1]],\n",
       "\n",
       "       [[0.1, 0.1],\n",
       "        [0.1, 0.1]]])"
      ]
     },
     "execution_count": 137,
     "metadata": {},
     "output_type": "execute_result"
    }
   ],
   "source": [
    "B = np.ones((3, 2, 2)) * 0.1\n",
    "B"
   ]
  },
  {
   "cell_type": "code",
   "execution_count": 138,
   "metadata": {},
   "outputs": [
    {
     "data": {
      "text/plain": [
       "array([[[[0. , 1.2],\n",
       "         [9.5, 3.3]],\n",
       "\n",
       "        [[0. , 1.2],\n",
       "         [9.5, 3.3]],\n",
       "\n",
       "        [[0. , 1.2],\n",
       "         [9.5, 3.3]]],\n",
       "\n",
       "\n",
       "       [[[0.1, 6. ],\n",
       "         [5.5, 7. ]],\n",
       "\n",
       "        [[0.1, 6. ],\n",
       "         [5.5, 7. ]],\n",
       "\n",
       "        [[0.1, 6. ],\n",
       "         [5.5, 7. ]]]])"
      ]
     },
     "execution_count": 138,
     "metadata": {},
     "output_type": "execute_result"
    }
   ],
   "source": [
    "A*B # becomes (2, 3, 2, 2)"
   ]
  },
  {
   "cell_type": "markdown",
   "metadata": {},
   "source": [
    "### So, when broadcast happens?"
   ]
  },
  {
   "cell_type": "code",
   "execution_count": null,
   "metadata": {},
   "outputs": [],
   "source": [
    "# Image  (3d array): 256 x 256 x 3\n",
    "# Scale  (1d array):             3\n",
    "# Result (3d array): 256 x 256 x 3\n",
    "\n",
    "# A      (2d array):  5 x 4\n",
    "# B      (1d array):      1\n",
    "# Result (2d array):  5 x 4\n",
    "\n",
    "# A      (3d array):  15 x 3 x 5\n",
    "# B      (3d array):  15 x 1 x 5\n",
    "# Result (3d array):  15 x 3 x 5\n",
    "\n",
    "# A      (4d array):  8 x 1 x 6 x 1\n",
    "# B      (3d array):      7 x 1 x 5\n",
    "# Result (4d array):  8 x 7 x 6 x 5"
   ]
  },
  {
   "cell_type": "markdown",
   "metadata": {},
   "source": [
    "When operating on two arrays, NumPy compares their shapes element-wise. It starts with the trailing dimensions, and works its way forward. Two dimensions are compatible when\n",
    "\n",
    "- they are equal, or\n",
    "- one of them is 1"
   ]
  },
  {
   "cell_type": "markdown",
   "metadata": {},
   "source": [
    "### np.broadcast"
   ]
  },
  {
   "cell_type": "code",
   "execution_count": 12,
   "metadata": {},
   "outputs": [
    {
     "data": {
      "text/plain": [
       "[(1, 4), (1, 5), (1, 6), (2, 4), (2, 5), (2, 6), (3, 4), (3, 5), (3, 6)]"
      ]
     },
     "execution_count": 12,
     "metadata": {},
     "output_type": "execute_result"
    }
   ],
   "source": [
    "import numpy as np\n",
    "\n",
    "x = np.array([[1], [2], [3]])\n",
    "y = np.array([4, 5, 6])\n",
    "b = np.broadcast(x, y)\n",
    "list(b)"
   ]
  },
  {
   "cell_type": "code",
   "execution_count": null,
   "metadata": {},
   "outputs": [],
   "source": []
  }
 ],
 "metadata": {
  "kernelspec": {
   "display_name": "Python 3",
   "language": "python",
   "name": "python3"
  },
  "language_info": {
   "codemirror_mode": {
    "name": "ipython",
    "version": 3
   },
   "file_extension": ".py",
   "mimetype": "text/x-python",
   "name": "python",
   "nbconvert_exporter": "python",
   "pygments_lexer": "ipython3",
   "version": "3.5.6"
  }
 },
 "nbformat": 4,
 "nbformat_minor": 2
}
